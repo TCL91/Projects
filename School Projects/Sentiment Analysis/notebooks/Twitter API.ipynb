{
 "cells": [
  {
   "cell_type": "code",
   "execution_count": 1,
   "id": "5e37a0a5",
   "metadata": {},
   "outputs": [],
   "source": [
    "import os\n",
    "import tweepy as tw\n",
    "import pandas as pd"
   ]
  },
  {
   "cell_type": "code",
   "execution_count": 2,
   "id": "a9e326f8",
   "metadata": {},
   "outputs": [],
   "source": [
    "api_key = \"yWERFj76TdEhGFvCFmd1catHE\"\n",
    "api_secrets = \"Jz6Q0MDY62auKA24vxQT9cvjkoRfAOKVVsuNaFHpf2gkKRRjt3\"\n",
    "access_token = \"933488354624262146-huPrVI0UBh171UG7iCzt1pkLCsoQ3o9\"\n",
    "access_secret = \"cocokAGoltdWTbE38H3LkDrWMv2mLxmMk7MEdlXpNoHaob\"\n",
    "\n",
    "os.environ['TOKEN'] = 'AAAAAAAAAAAAAAAAAAAAAGu5jQEAAAAALy7Z3wfYEw6x57iAljsSHHf3QZg%3D9VUfAeI47YSVZTX2NvvoIwDH32PfV1IGOYcXo7LhNH9qtibX92'"
   ]
  },
  {
   "cell_type": "code",
   "execution_count": 3,
   "id": "b7198f18",
   "metadata": {},
   "outputs": [],
   "source": [
    "import tweepy as tw\n",
    "# your Twitter API key and API secret\n",
    "my_api_key = \"yWERFj76TdEhGFvCFmd1catHE\"\n",
    "my_api_secret = \"Jz6Q0MDY62auKA24vxQT9cvjkoRfAOKVVsuNaFHpf2gkKRRjt3\"\n",
    "# authenticate\n",
    "auth = tw.OAuthHandler(my_api_key, my_api_secret)\n",
    "api = tw.API(auth, wait_on_rate_limit=True)\n"
   ]
  },
  {
   "cell_type": "code",
   "execution_count": 5,
   "id": "d700f4ab",
   "metadata": {},
   "outputs": [
    {
     "data": {
      "text/plain": [
       "'#healthcare -filter:retweets'"
      ]
     },
     "execution_count": 5,
     "metadata": {},
     "output_type": "execute_result"
    }
   ],
   "source": [
    "search_words = \"#healthcare\"\n",
    "# date_since = \"2018-11-16\"\n",
    "\n",
    "filter_search = search_words + \" -filter:retweets\"\n",
    "filter_search"
   ]
  },
  {
   "cell_type": "code",
   "execution_count": 6,
   "id": "4b1bc704",
   "metadata": {},
   "outputs": [],
   "source": [
    "# Collect tweets\n",
    "tweets = tw.Cursor(api.search_tweets,\n",
    "              q=filter_search,\n",
    "              lang=\"en\").items(10000)\n",
    "# tweets"
   ]
  },
  {
   "cell_type": "code",
   "execution_count": 7,
   "id": "01d2e84b",
   "metadata": {
    "scrolled": true
   },
   "outputs": [
    {
     "name": "stderr",
     "output_type": "stream",
     "text": [
      "Rate limit reached. Sleeping for: 753\n"
     ]
    }
   ],
   "source": [
    "tweets_copy = []\n",
    "for tweet in tweets:\n",
    "    tweets_copy.append(tweet)"
   ]
  },
  {
   "cell_type": "code",
   "execution_count": 8,
   "id": "dde1ed8a",
   "metadata": {},
   "outputs": [
    {
     "data": {
      "text/plain": [
       "10000"
      ]
     },
     "execution_count": 8,
     "metadata": {},
     "output_type": "execute_result"
    }
   ],
   "source": [
    "len(tweets_copy)"
   ]
  },
  {
   "cell_type": "code",
   "execution_count": 9,
   "id": "b3967823",
   "metadata": {},
   "outputs": [
    {
     "name": "stderr",
     "output_type": "stream",
     "text": [
      "Rate limit reached. Sleeping for: 672\n",
      "Rate limit reached. Sleeping for: 669\n",
      "Rate limit reached. Sleeping for: 669\n",
      "Rate limit reached. Sleeping for: 672\n",
      "Rate limit reached. Sleeping for: 672\n",
      "Rate limit reached. Sleeping for: 672\n",
      "Rate limit reached. Sleeping for: 671\n",
      "Rate limit reached. Sleeping for: 629\n",
      "Rate limit reached. Sleeping for: 665\n",
      "Rate limit reached. Sleeping for: 668\n",
      "Rate limit reached. Sleeping for: 674\n"
     ]
    },
    {
     "data": {
      "text/html": [
       "<div>\n",
       "<style scoped>\n",
       "    .dataframe tbody tr th:only-of-type {\n",
       "        vertical-align: middle;\n",
       "    }\n",
       "\n",
       "    .dataframe tbody tr th {\n",
       "        vertical-align: top;\n",
       "    }\n",
       "\n",
       "    .dataframe thead th {\n",
       "        text-align: right;\n",
       "    }\n",
       "</style>\n",
       "<table border=\"1\" class=\"dataframe\">\n",
       "  <thead>\n",
       "    <tr style=\"text-align: right;\">\n",
       "      <th></th>\n",
       "      <th>user_name</th>\n",
       "      <th>user_location</th>\n",
       "      <th>user_description</th>\n",
       "      <th>Number of Favorites</th>\n",
       "      <th>ID</th>\n",
       "      <th>date</th>\n",
       "      <th>text</th>\n",
       "      <th>hashtags</th>\n",
       "      <th>source</th>\n",
       "    </tr>\n",
       "  </thead>\n",
       "  <tbody>\n",
       "    <tr>\n",
       "      <th>0</th>\n",
       "      <td>Med-Tech World</td>\n",
       "      <td>Malta</td>\n",
       "      <td>Med-Tech World highlights leading innovations ...</td>\n",
       "      <td>245</td>\n",
       "      <td>1090184482047619073</td>\n",
       "      <td>2022-11-18 16:26:39+00:00</td>\n",
       "      <td>THE HEALTH OF OUR SOCIETY IS INTRINSICALLY LIN...</td>\n",
       "      <td>[None]</td>\n",
       "      <td>HubSpot</td>\n",
       "    </tr>\n",
       "    <tr>\n",
       "      <th>1</th>\n",
       "      <td>Martin Taylor</td>\n",
       "      <td>United Kingdom</td>\n",
       "      <td>Deputy CEO and Co-Founder of the Redwood Techn...</td>\n",
       "      <td>52</td>\n",
       "      <td>4096820361</td>\n",
       "      <td>2022-11-18 16:26:05+00:00</td>\n",
       "      <td>Congratulations to West Yorkshire ICS, who won...</td>\n",
       "      <td>[[HSJAwards]]</td>\n",
       "      <td>Oktopost</td>\n",
       "    </tr>\n",
       "    <tr>\n",
       "      <th>2</th>\n",
       "      <td>Jits Langedijk</td>\n",
       "      <td>Utrecht, Nederland</td>\n",
       "      <td>Sr. Solutions Architect @NVIDIA https://t.co/d...</td>\n",
       "      <td>2816</td>\n",
       "      <td>115660165</td>\n",
       "      <td>2022-11-18 16:25:51+00:00</td>\n",
       "      <td>Calling #healthcare #AI professionals! NVIDIA ...</td>\n",
       "      <td>[[healthcare, AI, UMC]]</td>\n",
       "      <td>Dynamic Signal</td>\n",
       "    </tr>\n",
       "    <tr>\n",
       "      <th>3</th>\n",
       "      <td>HealthCare CE</td>\n",
       "      <td></td>\n",
       "      <td>Health Care News, Topics, Updates &amp; Reviews of...</td>\n",
       "      <td>0</td>\n",
       "      <td>1566589962035666944</td>\n",
       "      <td>2022-11-18 16:25:18+00:00</td>\n",
       "      <td>Your immune system may be weakened over time, ...</td>\n",
       "      <td>[None]</td>\n",
       "      <td>TweetDeck</td>\n",
       "    </tr>\n",
       "    <tr>\n",
       "      <th>4</th>\n",
       "      <td>CCS</td>\n",
       "      <td>Dallas, TX</td>\n",
       "      <td>CCS is a leading provider of collaborative car...</td>\n",
       "      <td>1195</td>\n",
       "      <td>58493082</td>\n",
       "      <td>2022-11-18 16:25:11+00:00</td>\n",
       "      <td>#CCS is growing! We are #hiring for a Customer...</td>\n",
       "      <td>[[CCS, hiring]]</td>\n",
       "      <td>Hootsuite Inc.</td>\n",
       "    </tr>\n",
       "  </tbody>\n",
       "</table>\n",
       "</div>"
      ],
      "text/plain": [
       "        user_name       user_location  \\\n",
       "0  Med-Tech World               Malta   \n",
       "1   Martin Taylor      United Kingdom   \n",
       "2  Jits Langedijk  Utrecht, Nederland   \n",
       "3   HealthCare CE                       \n",
       "4             CCS          Dallas, TX   \n",
       "\n",
       "                                    user_description  Number of Favorites  \\\n",
       "0  Med-Tech World highlights leading innovations ...                  245   \n",
       "1  Deputy CEO and Co-Founder of the Redwood Techn...                   52   \n",
       "2  Sr. Solutions Architect @NVIDIA https://t.co/d...                 2816   \n",
       "3  Health Care News, Topics, Updates & Reviews of...                    0   \n",
       "4  CCS is a leading provider of collaborative car...                 1195   \n",
       "\n",
       "                    ID                      date  \\\n",
       "0  1090184482047619073 2022-11-18 16:26:39+00:00   \n",
       "1           4096820361 2022-11-18 16:26:05+00:00   \n",
       "2            115660165 2022-11-18 16:25:51+00:00   \n",
       "3  1566589962035666944 2022-11-18 16:25:18+00:00   \n",
       "4             58493082 2022-11-18 16:25:11+00:00   \n",
       "\n",
       "                                                text                 hashtags  \\\n",
       "0  THE HEALTH OF OUR SOCIETY IS INTRINSICALLY LIN...                   [None]   \n",
       "1  Congratulations to West Yorkshire ICS, who won...            [[HSJAwards]]   \n",
       "2  Calling #healthcare #AI professionals! NVIDIA ...  [[healthcare, AI, UMC]]   \n",
       "3  Your immune system may be weakened over time, ...                   [None]   \n",
       "4  #CCS is growing! We are #hiring for a Customer...          [[CCS, hiring]]   \n",
       "\n",
       "           source  \n",
       "0         HubSpot  \n",
       "1        Oktopost  \n",
       "2  Dynamic Signal  \n",
       "3       TweetDeck  \n",
       "4  Hootsuite Inc.  "
      ]
     },
     "execution_count": 9,
     "metadata": {},
     "output_type": "execute_result"
    }
   ],
   "source": [
    "# intialize the dataframe\n",
    "tweets_df = pd.DataFrame()\n",
    "# populate the dataframe\n",
    "for tweet in tweets_copy:\n",
    "    hashtags = []\n",
    "    try:\n",
    "        for hashtag in tweet.entities[\"hashtags\"]:\n",
    "            hashtags.append(hashtag[\"text\"])\n",
    "        text = api.get_status(id=tweet.id, tweet_mode='extended').full_text\n",
    "    except:\n",
    "        pass\n",
    "    \n",
    "#     df = pd.concat([df, pd.DataFrame.from_records([{ 'a': 1, 'b': 2 }])])\n",
    "    tweets_df = pd.concat([tweets_df, pd.DataFrame.from_records([{'user_name': tweet.user.name, \n",
    "                                               'user_location': tweet.user.location,\\\n",
    "                                               'user_description': tweet.user.description,\n",
    "#                                                'user_verified': tweet.user.verified,\n",
    "                                               'Number of Favorites': tweet.user.favourites_count,\n",
    "                                               'ID' : tweet.user.id,\n",
    "                                               'date': tweet.created_at,\n",
    "                                               'text': text, \n",
    "                                               'hashtags': [hashtags if hashtags else None],\n",
    "                                               'source': tweet.source}])])\n",
    "    tweets_df = tweets_df.reset_index(drop=True)\n",
    "# show the dataframe\n",
    "tweets_df.head()"
   ]
  },
  {
   "cell_type": "code",
   "execution_count": 10,
   "id": "f0cd6279",
   "metadata": {},
   "outputs": [],
   "source": [
    "tweets_df.to_csv('health_tweets.csv')"
   ]
  },
  {
   "cell_type": "code",
   "execution_count": 11,
   "id": "cd2414f5",
   "metadata": {},
   "outputs": [
    {
     "data": {
      "text/plain": [
       "<tweepy.cursor.ItemIterator at 0x225b5b1ef10>"
      ]
     },
     "execution_count": 11,
     "metadata": {},
     "output_type": "execute_result"
    }
   ],
   "source": [
    "search_words = \"#education\"\n",
    "# date_since = \"2018-11-16\"\n",
    "\n",
    "filter_search = search_words + \" -filter:retweets\"\n",
    "filter_search\n",
    "\n",
    "\n",
    "# Collect tweets\n",
    "tweets = tw.Cursor(api.search_tweets,\n",
    "              q=filter_search,\n",
    "              lang=\"en\").items(10000)\n",
    "tweets"
   ]
  },
  {
   "cell_type": "code",
   "execution_count": 12,
   "id": "470c93c0",
   "metadata": {},
   "outputs": [
    {
     "name": "stderr",
     "output_type": "stream",
     "text": [
      "Rate limit reached. Sleeping for: 754\n"
     ]
    }
   ],
   "source": [
    "tweets_copy = []\n",
    "for tweet in tweets:\n",
    "    tweets_copy.append(tweet)"
   ]
  },
  {
   "cell_type": "code",
   "execution_count": 13,
   "id": "67cc94e5",
   "metadata": {},
   "outputs": [
    {
     "name": "stderr",
     "output_type": "stream",
     "text": [
      "Rate limit reached. Sleeping for: 677\n",
      "Rate limit reached. Sleeping for: 677\n",
      "Rate limit reached. Sleeping for: 674\n",
      "Rate limit reached. Sleeping for: 673\n",
      "Rate limit reached. Sleeping for: 670\n",
      "Rate limit reached. Sleeping for: 669\n",
      "Rate limit reached. Sleeping for: 668\n",
      "Rate limit reached. Sleeping for: 669\n",
      "Rate limit reached. Sleeping for: 666\n",
      "Rate limit reached. Sleeping for: 665\n",
      "Rate limit reached. Sleeping for: 628\n"
     ]
    },
    {
     "data": {
      "text/html": [
       "<div>\n",
       "<style scoped>\n",
       "    .dataframe tbody tr th:only-of-type {\n",
       "        vertical-align: middle;\n",
       "    }\n",
       "\n",
       "    .dataframe tbody tr th {\n",
       "        vertical-align: top;\n",
       "    }\n",
       "\n",
       "    .dataframe thead th {\n",
       "        text-align: right;\n",
       "    }\n",
       "</style>\n",
       "<table border=\"1\" class=\"dataframe\">\n",
       "  <thead>\n",
       "    <tr style=\"text-align: right;\">\n",
       "      <th></th>\n",
       "      <th>user_name</th>\n",
       "      <th>user_location</th>\n",
       "      <th>user_description</th>\n",
       "      <th>Number of Favorites</th>\n",
       "      <th>ID</th>\n",
       "      <th>date</th>\n",
       "      <th>text</th>\n",
       "      <th>hashtags</th>\n",
       "      <th>source</th>\n",
       "    </tr>\n",
       "  </thead>\n",
       "  <tbody>\n",
       "    <tr>\n",
       "      <th>0</th>\n",
       "      <td>ISA - The International Schools Association</td>\n",
       "      <td>Geneve, Switzerlad</td>\n",
       "      <td>A non-governmental international organization,...</td>\n",
       "      <td>70</td>\n",
       "      <td>3092078225</td>\n",
       "      <td>2022-11-18 19:29:29+00:00</td>\n",
       "      <td>We want to congratulate Colegio Lakeside for h...</td>\n",
       "      <td>[None]</td>\n",
       "      <td>Metricool</td>\n",
       "    </tr>\n",
       "    <tr>\n",
       "      <th>1</th>\n",
       "      <td>onlineCourses</td>\n",
       "      <td></td>\n",
       "      <td>Sending out free coupons to Online web develop...</td>\n",
       "      <td>86</td>\n",
       "      <td>2591443279</td>\n",
       "      <td>2022-11-18 19:29:01+00:00</td>\n",
       "      <td>#JAVASCRIPT#COURSES #LEARN #FREE JavaScript DO...</td>\n",
       "      <td>[[LEARN, FREE]]</td>\n",
       "      <td>FreeCourses</td>\n",
       "    </tr>\n",
       "    <tr>\n",
       "      <th>2</th>\n",
       "      <td>SCarolina Education</td>\n",
       "      <td>South Carolina</td>\n",
       "      <td>Follow this account for geo-targeted Education...</td>\n",
       "      <td>0</td>\n",
       "      <td>181076039</td>\n",
       "      <td>2022-11-18 19:28:41+00:00</td>\n",
       "      <td>See our latest SC #Education job opportunity a...</td>\n",
       "      <td>[[Education]]</td>\n",
       "      <td>CareerArc 2.0</td>\n",
       "    </tr>\n",
       "    <tr>\n",
       "      <th>3</th>\n",
       "      <td>Ciara Quill</td>\n",
       "      <td>Ireland</td>\n",
       "      <td>Teacher &amp; lecturer of 🇫🇷 🇩🇪 Interests include ...</td>\n",
       "      <td>74683</td>\n",
       "      <td>1920750644</td>\n",
       "      <td>2022-11-18 19:28:29+00:00</td>\n",
       "      <td>#teachers #education #schools And yet the Depa...</td>\n",
       "      <td>[[teachers, education, schools]]</td>\n",
       "      <td>Twitter for iPhone</td>\n",
       "    </tr>\n",
       "    <tr>\n",
       "      <th>4</th>\n",
       "      <td>Jeremy Yanofsky</td>\n",
       "      <td>California, USA</td>\n",
       "      <td>Champion for #gamebasedlearning @ https://t.co...</td>\n",
       "      <td>3930</td>\n",
       "      <td>321521246</td>\n",
       "      <td>2022-11-18 19:28:26+00:00</td>\n",
       "      <td>While so many of my colleagues in #education a...</td>\n",
       "      <td>[[education, RIPTwitter, PLN]]</td>\n",
       "      <td>Twitter Web App</td>\n",
       "    </tr>\n",
       "  </tbody>\n",
       "</table>\n",
       "</div>"
      ],
      "text/plain": [
       "                                     user_name       user_location  \\\n",
       "0  ISA - The International Schools Association  Geneve, Switzerlad   \n",
       "1                                onlineCourses                       \n",
       "2                          SCarolina Education      South Carolina   \n",
       "3                                  Ciara Quill             Ireland   \n",
       "4                              Jeremy Yanofsky     California, USA   \n",
       "\n",
       "                                    user_description  Number of Favorites  \\\n",
       "0  A non-governmental international organization,...                   70   \n",
       "1  Sending out free coupons to Online web develop...                   86   \n",
       "2  Follow this account for geo-targeted Education...                    0   \n",
       "3  Teacher & lecturer of 🇫🇷 🇩🇪 Interests include ...                74683   \n",
       "4  Champion for #gamebasedlearning @ https://t.co...                 3930   \n",
       "\n",
       "           ID                      date  \\\n",
       "0  3092078225 2022-11-18 19:29:29+00:00   \n",
       "1  2591443279 2022-11-18 19:29:01+00:00   \n",
       "2   181076039 2022-11-18 19:28:41+00:00   \n",
       "3  1920750644 2022-11-18 19:28:29+00:00   \n",
       "4   321521246 2022-11-18 19:28:26+00:00   \n",
       "\n",
       "                                                text  \\\n",
       "0  We want to congratulate Colegio Lakeside for h...   \n",
       "1  #JAVASCRIPT#COURSES #LEARN #FREE JavaScript DO...   \n",
       "2  See our latest SC #Education job opportunity a...   \n",
       "3  #teachers #education #schools And yet the Depa...   \n",
       "4  While so many of my colleagues in #education a...   \n",
       "\n",
       "                           hashtags              source  \n",
       "0                            [None]           Metricool  \n",
       "1                   [[LEARN, FREE]]         FreeCourses  \n",
       "2                     [[Education]]       CareerArc 2.0  \n",
       "3  [[teachers, education, schools]]  Twitter for iPhone  \n",
       "4    [[education, RIPTwitter, PLN]]     Twitter Web App  "
      ]
     },
     "execution_count": 13,
     "metadata": {},
     "output_type": "execute_result"
    }
   ],
   "source": [
    "# intialize the dataframe\n",
    "tweets_df = pd.DataFrame()\n",
    "# populate the dataframe\n",
    "for tweet in tweets_copy:\n",
    "    hashtags = []\n",
    "    try:\n",
    "        for hashtag in tweet.entities[\"hashtags\"]:\n",
    "            hashtags.append(hashtag[\"text\"])\n",
    "        text = api.get_status(id=tweet.id, tweet_mode='extended').full_text\n",
    "    except:\n",
    "        pass\n",
    "    \n",
    "#     df = pd.concat([df, pd.DataFrame.from_records([{ 'a': 1, 'b': 2 }])])\n",
    "    tweets_df = pd.concat([tweets_df, pd.DataFrame.from_records([{'user_name': tweet.user.name, \n",
    "                                               'user_location': tweet.user.location,\\\n",
    "                                               'user_description': tweet.user.description,\n",
    "#                                                'user_verified': tweet.user.verified,\n",
    "                                               'Number of Favorites': tweet.user.favourites_count,\n",
    "                                               'ID' : tweet.user.id,\n",
    "                                               'date': tweet.created_at,\n",
    "                                               'text': text, \n",
    "                                               'hashtags': [hashtags if hashtags else None],\n",
    "                                               'source': tweet.source}])])\n",
    "    tweets_df = tweets_df.reset_index(drop=True)\n",
    "# show the dataframe\n",
    "tweets_df.head()"
   ]
  },
  {
   "cell_type": "code",
   "execution_count": 14,
   "id": "c9abcb35",
   "metadata": {},
   "outputs": [],
   "source": [
    "tweets_df.to_csv('education_tweets.csv')"
   ]
  },
  {
   "cell_type": "code",
   "execution_count": null,
   "id": "29d20e2c",
   "metadata": {},
   "outputs": [],
   "source": []
  }
 ],
 "metadata": {
  "kernelspec": {
   "display_name": "Python 3 (ipykernel)",
   "language": "python",
   "name": "python3"
  },
  "language_info": {
   "codemirror_mode": {
    "name": "ipython",
    "version": 3
   },
   "file_extension": ".py",
   "mimetype": "text/x-python",
   "name": "python",
   "nbconvert_exporter": "python",
   "pygments_lexer": "ipython3",
   "version": "3.9.13"
  }
 },
 "nbformat": 4,
 "nbformat_minor": 5
}
